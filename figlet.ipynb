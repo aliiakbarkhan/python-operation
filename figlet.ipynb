{
 "cells": [
  {
   "cell_type": "code",
   "execution_count": 16,
   "id": "49e0b3c0-2c22-4a38-89c6-bb4a220cb0ec",
   "metadata": {},
   "outputs": [
    {
     "name": "stdin",
     "output_type": "stream",
     "text": [
      "Input:  Ali\n",
      "Font:  slant\n"
     ]
    },
    {
     "name": "stdout",
     "output_type": "stream",
     "text": [
      "Output:     ___    ___ \n",
      "   /   |  / (_)\n",
      "  / /| | / / / \n",
      " / ___ |/ / /  \n",
      "/_/  |_/_/_/   \n",
      "               \n",
      "\n"
     ]
    }
   ],
   "source": [
    "def main():\n",
    "    ins = input(\"Input: \")\n",
    "    f = input(\"Font: \")\n",
    "    fontss(ins,f)\n",
    "\n",
    "def fontss(a,b):\n",
    "    from pyfiglet import Figlet\n",
    "    figlet = Figlet()\n",
    "    figlet.getFonts()\n",
    "    figlet.setFont(font=b)\n",
    "    print(\"Output:\",figlet.renderText(a))\n",
    "\n",
    "main()\n",
    "    \n"
   ]
  },
  {
   "cell_type": "code",
   "execution_count": null,
   "id": "43e1ab17-fd38-4d12-89d2-0f9c0241d990",
   "metadata": {},
   "outputs": [],
   "source": []
  }
 ],
 "metadata": {
  "kernelspec": {
   "display_name": "Python 3 (ipykernel)",
   "language": "python",
   "name": "python3"
  },
  "language_info": {
   "codemirror_mode": {
    "name": "ipython",
    "version": 3
   },
   "file_extension": ".py",
   "mimetype": "text/x-python",
   "name": "python",
   "nbconvert_exporter": "python",
   "pygments_lexer": "ipython3",
   "version": "3.12.3"
  }
 },
 "nbformat": 4,
 "nbformat_minor": 5
}
