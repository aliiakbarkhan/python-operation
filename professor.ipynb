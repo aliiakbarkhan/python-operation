{
 "cells": [
  {
   "cell_type": "code",
   "execution_count": null,
   "id": "6dbf210a-2d5b-442e-88fe-6882e852016f",
   "metadata": {},
   "outputs": [
    {
     "name": "stdin",
     "output_type": "stream",
     "text": [
      "Level:  4\n",
      "Level:  5\n",
      "Level:  3\n"
     ]
    }
   ],
   "source": [
    "def main():\n",
    "    try:\n",
    "        level = int(input(\"Level: \"))\n",
    "    except ValueError:\n",
    "        main()\n",
    "    if level == 1:\n",
    "        maker(level)\n",
    "    elif level == 2:\n",
    "        maker(level)\n",
    "    elif level == 3:\n",
    "        maker(level)\n",
    "        \n",
    "    else:\n",
    "        main()\n",
    "\n",
    "def maker(d):\n",
    "    import random as rd\n",
    "    if d == 1:\n",
    "        i = 1\n",
    "        while i <= 10:\n",
    "            x = rd.randrange(0,9)\n",
    "            y = rd.randrange(0,9)\n",
    "            ans = int(input(f\"{x}+{y}=\"))\n",
    "            if ans != x+y:\n",
    "                print(\"EEE\")\n",
    "                maker(d)\n",
    "    elif d == 2:\n",
    "        i = 1\n",
    "        while i <= 10:\n",
    "            x = rd.randrange(10,99)\n",
    "            y = rd.randrange(10,99)\n",
    "            ans = int(input(f\"{x}+{y}=\"))\n",
    "            if ans != x+y:\n",
    "                print(\"EEE\")\n",
    "                maker(d)\n",
    "    elif d ==3:\n",
    "        i = 1\n",
    "        while i <= 10:\n",
    "            x = rd.randrange(100,999)\n",
    "            y = rd.randrange(100,999)\n",
    "            ans = int(input(f\"{x}+{y}=\"))\n",
    "            if ans != x+y:\n",
    "                print(\"EEE\")\n",
    "                maker(d)\n",
    "main()    \n",
    "\n",
    "    \n",
    "    \n",
    "    \n",
    "    "
   ]
  },
  {
   "cell_type": "code",
   "execution_count": 3,
   "id": "3391a3a3-05d7-41e4-bf73-188f0ceb3d84",
   "metadata": {},
   "outputs": [
    {
     "ename": "IndentationError",
     "evalue": "unindent does not match any outer indentation level (<string>, line 16)",
     "output_type": "error",
     "traceback": [
      "\u001b[1;36m  File \u001b[1;32m<string>:16\u001b[1;36m\u001b[0m\n\u001b[1;33m    i = 1\u001b[0m\n\u001b[1;37m         ^\u001b[0m\n\u001b[1;31mIndentationError\u001b[0m\u001b[1;31m:\u001b[0m unindent does not match any outer indentation level\n"
     ]
    }
   ],
   "source": [
    "def main():\n",
    "    try:\n",
    "        level = int(input(\"Level: \"))\n",
    "                    \n",
    "    except ValueError:\n",
    "                    main()\n",
    "    if level != 1 and 2 and 3:\n",
    "                    main()\n",
    "    else:\n",
    "                    def maker(level)\n",
    "def maker(d):\n",
    "                    import random as rd\n",
    "                    if d == 1:\n",
    "                    x = rd.randrange(0,9)\n",
    "                    y = rd.randrange(0,9)\n",
    "        i = 1\n",
    "        while i <= 10:\n",
    "            ans = int(input(f\"{x}+{y}=\"))\n",
    "            if ans != x+y:\n",
    "                print(\"EEE\")\n",
    "                maker(d)\n",
    "\n",
    "        \n",
    "elif d == 2:\n",
    "                    x = rd.randrange(10,99)\n",
    "                    y = rd.randrange(10,99)\n",
    "                i = 1\n",
    "        while i <= 10:\n",
    "            ans = int(input(f\"{x}+{y}=\"))\n",
    "            if ans != x+y:\n",
    "                print(\"EEE\")\n",
    "                maker(d)\n",
    "elif d == 3:\n",
    "                    x = rd.randrange(100,999)\n",
    "                    y = rd.randrange(100,999)\n",
    "                i = 1\n",
    "        while i <= 10:\n",
    "            ans = int(input(f\"{x}+{y}=\"))\n",
    "            if ans != x+y:\n",
    "                print(\"EEE\")\n",
    "                maker(d)\n",
    "\n",
    "\n",
    "        \n",
    "        \n",
    "                    \n",
    "                    \n",
    "                    \n",
    "                    \n",
    "\n",
    "main()"
   ]
  }
 ],
 "metadata": {
  "kernelspec": {
   "display_name": "Python 3 (ipykernel)",
   "language": "python",
   "name": "python3"
  },
  "language_info": {
   "codemirror_mode": {
    "name": "ipython",
    "version": 3
   },
   "file_extension": ".py",
   "mimetype": "text/x-python",
   "name": "python",
   "nbconvert_exporter": "python",
   "pygments_lexer": "ipython3",
   "version": "3.12.3"
  }
 },
 "nbformat": 4,
 "nbformat_minor": 5
}
