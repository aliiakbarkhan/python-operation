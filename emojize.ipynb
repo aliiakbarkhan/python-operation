{
 "cells": [
  {
   "cell_type": "code",
   "execution_count": null,
   "id": "dbba23ca-526c-4203-a13c-546a04fea755",
   "metadata": {},
   "outputs": [
    {
     "name": "stdin",
     "output_type": "stream",
     "text": [
      "Input:  :smile_cat:\n"
     ]
    },
    {
     "name": "stdout",
     "output_type": "stream",
     "text": [
      "😸\n"
     ]
    },
    {
     "name": "stdin",
     "output_type": "stream",
     "text": [
      "Input:  :thumbsup:\n"
     ]
    },
    {
     "name": "stdout",
     "output_type": "stream",
     "text": [
      "👍\n"
     ]
    }
   ],
   "source": [
    "import emoji as emo\n",
    "while True:\n",
    "    ins = input(\"Input: \")\n",
    "    print(emo.emojize(ins, language = \"alias\"))"
   ]
  },
  {
   "cell_type": "code",
   "execution_count": null,
   "id": "f11fe812-bc30-4af3-86b7-5a80f078b28c",
   "metadata": {},
   "outputs": [],
   "source": []
  }
 ],
 "metadata": {
  "kernelspec": {
   "display_name": "Python 3 (ipykernel)",
   "language": "python",
   "name": "python3"
  },
  "language_info": {
   "codemirror_mode": {
    "name": "ipython",
    "version": 3
   },
   "file_extension": ".py",
   "mimetype": "text/x-python",
   "name": "python",
   "nbconvert_exporter": "python",
   "pygments_lexer": "ipython3",
   "version": "3.12.3"
  }
 },
 "nbformat": 4,
 "nbformat_minor": 5
}
