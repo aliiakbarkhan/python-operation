{
 "cells": [
  {
   "cell_type": "code",
   "execution_count": null,
   "id": "d7184eab-96ac-494e-aa11-07ea435be4c7",
   "metadata": {},
   "outputs": [
    {
     "name": "stdin",
     "output_type": "stream",
     "text": [
      "Level:  1\n",
      "Guess:  1\n"
     ]
    },
    {
     "name": "stdout",
     "output_type": "stream",
     "text": [
      "Too large!\n"
     ]
    },
    {
     "name": "stdin",
     "output_type": "stream",
     "text": [
      "Level:  1\n",
      "Guess:  0\n"
     ]
    },
    {
     "name": "stdout",
     "output_type": "stream",
     "text": [
      "Just right!\n"
     ]
    }
   ],
   "source": [
    "def main():\n",
    "    try:\n",
    "        level = int(input(\"Level: \"))\n",
    "    except ValueError:\n",
    "        main()\n",
    "    if level < 0:\n",
    "        main()\n",
    "    elif level > 0:\n",
    "                game(level)\n",
    "                \n",
    "    else:\n",
    "                main()\n",
    "def game(n):\n",
    "    import random as rd\n",
    "    rnum = rd.randrange(0,n)\n",
    "    game2(rnum)\n",
    "\n",
    "def game2(r):\n",
    "    try:\n",
    "        guess = int(input(\"Guess: \"))\n",
    "    except ValueError:\n",
    "        game(r)\n",
    "    if guess < 0:\n",
    "        game()\n",
    "    elif guess == r:\n",
    "        print(\"Just right!\")\n",
    "    elif guess > r:\n",
    "        print(\"Too large!\")\n",
    "    elif guess < r:\n",
    "        print(\"Too small!\")\n",
    "    main()\n",
    "\n",
    "main()"
   ]
  },
  {
   "cell_type": "code",
   "execution_count": null,
   "id": "bffff788-da41-439d-b02f-eab13c1be156",
   "metadata": {},
   "outputs": [],
   "source": []
  },
  {
   "cell_type": "code",
   "execution_count": null,
   "id": "beae1b4e-e203-4e32-bad4-485c650d2b84",
   "metadata": {},
   "outputs": [],
   "source": []
  }
 ],
 "metadata": {
  "kernelspec": {
   "display_name": "Python 3 (ipykernel)",
   "language": "python",
   "name": "python3"
  },
  "language_info": {
   "codemirror_mode": {
    "name": "ipython",
    "version": 3
   },
   "file_extension": ".py",
   "mimetype": "text/x-python",
   "name": "python",
   "nbconvert_exporter": "python",
   "pygments_lexer": "ipython3",
   "version": "3.12.3"
  }
 },
 "nbformat": 4,
 "nbformat_minor": 5
}
