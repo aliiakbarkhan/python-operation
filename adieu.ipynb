{
 "cells": [
  {
   "cell_type": "code",
   "execution_count": 36,
   "id": "7287004c-0e3c-45e0-b5d2-720ecb458437",
   "metadata": {},
   "outputs": [
    {
     "name": "stdin",
     "output_type": "stream",
     "text": [
      "Enter Number Of Names: 3\n",
      "Name:  ali\n",
      "Name:  akbar\n",
      "Name:  khan\n"
     ]
    },
    {
     "name": "stdout",
     "output_type": "stream",
     "text": [
      "Adieu, adieu, to ali, akbar, and khan\n"
     ]
    }
   ],
   "source": [
    "def main():\n",
    "    names = []\n",
    "    n = int(input(\"Enter Number Of Names:\"))\n",
    "    i = 1\n",
    "    while i<=n:\n",
    "        name = input(\"Name: \")\n",
    "        names.append(name)\n",
    "        i +=1\n",
    "    addieu(names)\n",
    "\n",
    "        \n",
    "def addieu(n):\n",
    "    import inflect\n",
    "    mylist = p.join(n)\n",
    "    print(\"Adieu, adieu, to\",mylist)\n",
    "    \n",
    "\n",
    "main()\n"
   ]
  },
  {
   "cell_type": "code",
   "execution_count": 33,
   "id": "165d3a37-7430-4062-959d-185774af9615",
   "metadata": {},
   "outputs": [
    {
     "name": "stdin",
     "output_type": "stream",
     "text": [
      "Enter Number Of Names: 2\n",
      "Enter:  ali\n",
      "Enter:  hasan\n"
     ]
    },
    {
     "name": "stdout",
     "output_type": "stream",
     "text": [
      "ali and hasan\n"
     ]
    }
   ],
   "source": [
    "# prototype\n",
    "import inflect\n",
    "\n",
    "p = inflect.engine()\n",
    "word = []\n",
    "i =1\n",
    "n = int(input(\"Enter Number Of Names:\"))\n",
    "while i <=n:\n",
    "    name = input(\"Enter: \")\n",
    "    word.append(name) \n",
    "    i += 1\n",
    "\n",
    "\n",
    "mylist = p.join(word)\n",
    "print(mylist)"
   ]
  },
  {
   "cell_type": "code",
   "execution_count": null,
   "id": "7d6e9c52-67a4-4e45-a6fb-2a074cab2bd5",
   "metadata": {},
   "outputs": [],
   "source": []
  },
  {
   "cell_type": "code",
   "execution_count": null,
   "id": "8bcd4b11-6675-4ec1-a180-688ff29581c9",
   "metadata": {},
   "outputs": [],
   "source": []
  }
 ],
 "metadata": {
  "kernelspec": {
   "display_name": "Python 3 (ipykernel)",
   "language": "python",
   "name": "python3"
  },
  "language_info": {
   "codemirror_mode": {
    "name": "ipython",
    "version": 3
   },
   "file_extension": ".py",
   "mimetype": "text/x-python",
   "name": "python",
   "nbconvert_exporter": "python",
   "pygments_lexer": "ipython3",
   "version": "3.12.3"
  }
 },
 "nbformat": 4,
 "nbformat_minor": 5
}
